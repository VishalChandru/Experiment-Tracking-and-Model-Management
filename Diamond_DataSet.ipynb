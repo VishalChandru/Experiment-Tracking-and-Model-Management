{
  "cells": [
    {
      "cell_type": "code",
      "execution_count": 39,
      "metadata": {
        "id": "1KLcVa857pn5"
      },
      "outputs": [],
      "source": [
        "import pandas as pd\n",
        "import numpy as np\n",
        "import matplotlib.pyplot as plt\n",
        "import seaborn as sns\n",
        "import mlflow\n",
        "\n",
        "from pickle import dump\n",
        "from pickle import load\n",
        "from sklearn import metrics\n",
        "\n",
        "from sklearn.model_selection import train_test_split\n",
        "from sklearn.preprocessing import StandardScaler\n",
        "from sklearn.preprocessing import OrdinalEncoder\n",
        "from sklearn.linear_model import LinearRegression\n",
        "from sklearn.neighbors import KNeighborsRegressor\n",
        "from sklearn.tree import DecisionTreeRegressor\n",
        "from sklearn.ensemble import RandomForestRegressor\n",
        "from sklearn.model_selection import GridSearchCV\n",
        "\n"
      ]
    },
    {
      "cell_type": "code",
      "execution_count": 40,
      "metadata": {},
      "outputs": [
        {
          "data": {
            "text/plain": [
              "<Experiment: artifact_location='/Users/vishalchandru/MacBook/DATA SCIENCE/Projects/MLFLOW/mlruns/1', creation_time=1687389469084, experiment_id='1', last_update_time=1687389469084, lifecycle_stage='active', name='Diamond Price Prediction', tags={}>"
            ]
          },
          "execution_count": 40,
          "metadata": {},
          "output_type": "execute_result"
        }
      ],
      "source": [
        "mlflow.set_tracking_uri(\"sqlite:///mlflow.db\")\n",
        "mlflow.set_experiment(\"Diamond Price Prediction\")"
      ]
    },
    {
      "cell_type": "code",
      "execution_count": 41,
      "metadata": {
        "colab": {
          "base_uri": "https://localhost:8080/",
          "height": 204
        },
        "id": "lojaAs839MOb",
        "outputId": "f639c575-ac26-4ff1-9053-ef7f08177e80"
      },
      "outputs": [
        {
          "data": {
            "text/html": [
              "<div>\n",
              "<style scoped>\n",
              "    .dataframe tbody tr th:only-of-type {\n",
              "        vertical-align: middle;\n",
              "    }\n",
              "\n",
              "    .dataframe tbody tr th {\n",
              "        vertical-align: top;\n",
              "    }\n",
              "\n",
              "    .dataframe thead th {\n",
              "        text-align: right;\n",
              "    }\n",
              "</style>\n",
              "<table border=\"1\" class=\"dataframe\">\n",
              "  <thead>\n",
              "    <tr style=\"text-align: right;\">\n",
              "      <th></th>\n",
              "      <th>carat</th>\n",
              "      <th>cut</th>\n",
              "      <th>color</th>\n",
              "      <th>clarity</th>\n",
              "      <th>depth</th>\n",
              "      <th>table</th>\n",
              "      <th>price</th>\n",
              "      <th>x</th>\n",
              "      <th>y</th>\n",
              "      <th>z</th>\n",
              "    </tr>\n",
              "  </thead>\n",
              "  <tbody>\n",
              "    <tr>\n",
              "      <th>0</th>\n",
              "      <td>0.23</td>\n",
              "      <td>Ideal</td>\n",
              "      <td>E</td>\n",
              "      <td>SI2</td>\n",
              "      <td>61.5</td>\n",
              "      <td>55.0</td>\n",
              "      <td>326</td>\n",
              "      <td>3.95</td>\n",
              "      <td>3.98</td>\n",
              "      <td>2.43</td>\n",
              "    </tr>\n",
              "    <tr>\n",
              "      <th>1</th>\n",
              "      <td>0.21</td>\n",
              "      <td>Premium</td>\n",
              "      <td>E</td>\n",
              "      <td>SI1</td>\n",
              "      <td>59.8</td>\n",
              "      <td>61.0</td>\n",
              "      <td>326</td>\n",
              "      <td>3.89</td>\n",
              "      <td>3.84</td>\n",
              "      <td>2.31</td>\n",
              "    </tr>\n",
              "    <tr>\n",
              "      <th>2</th>\n",
              "      <td>0.23</td>\n",
              "      <td>Good</td>\n",
              "      <td>E</td>\n",
              "      <td>VS1</td>\n",
              "      <td>56.9</td>\n",
              "      <td>65.0</td>\n",
              "      <td>327</td>\n",
              "      <td>4.05</td>\n",
              "      <td>4.07</td>\n",
              "      <td>2.31</td>\n",
              "    </tr>\n",
              "    <tr>\n",
              "      <th>3</th>\n",
              "      <td>0.29</td>\n",
              "      <td>Premium</td>\n",
              "      <td>I</td>\n",
              "      <td>VS2</td>\n",
              "      <td>62.4</td>\n",
              "      <td>58.0</td>\n",
              "      <td>334</td>\n",
              "      <td>4.20</td>\n",
              "      <td>4.23</td>\n",
              "      <td>2.63</td>\n",
              "    </tr>\n",
              "    <tr>\n",
              "      <th>4</th>\n",
              "      <td>0.31</td>\n",
              "      <td>Good</td>\n",
              "      <td>J</td>\n",
              "      <td>SI2</td>\n",
              "      <td>63.3</td>\n",
              "      <td>58.0</td>\n",
              "      <td>335</td>\n",
              "      <td>4.34</td>\n",
              "      <td>4.35</td>\n",
              "      <td>2.75</td>\n",
              "    </tr>\n",
              "  </tbody>\n",
              "</table>\n",
              "</div>"
            ],
            "text/plain": [
              "   carat      cut color clarity  depth  table  price     x     y     z\n",
              "0   0.23    Ideal     E     SI2   61.5   55.0    326  3.95  3.98  2.43\n",
              "1   0.21  Premium     E     SI1   59.8   61.0    326  3.89  3.84  2.31\n",
              "2   0.23     Good     E     VS1   56.9   65.0    327  4.05  4.07  2.31\n",
              "3   0.29  Premium     I     VS2   62.4   58.0    334  4.20  4.23  2.63\n",
              "4   0.31     Good     J     SI2   63.3   58.0    335  4.34  4.35  2.75"
            ]
          },
          "execution_count": 41,
          "metadata": {},
          "output_type": "execute_result"
        }
      ],
      "source": [
        "data = pd.read_csv('data/diamonds.csv')\n",
        "data.head()"
      ]
    },
    {
      "cell_type": "code",
      "execution_count": 42,
      "metadata": {
        "colab": {
          "base_uri": "https://localhost:8080/"
        },
        "id": "2zANrAQ4_wQH",
        "outputId": "d8bc2d60-636e-49b5-a49c-34ca79857f3f"
      },
      "outputs": [
        {
          "name": "stdout",
          "output_type": "stream",
          "text": [
            "<class 'pandas.core.frame.DataFrame'>\n",
            "RangeIndex: 53940 entries, 0 to 53939\n",
            "Data columns (total 10 columns):\n",
            " #   Column   Non-Null Count  Dtype  \n",
            "---  ------   --------------  -----  \n",
            " 0   carat    53940 non-null  float64\n",
            " 1   cut      53940 non-null  object \n",
            " 2   color    53940 non-null  object \n",
            " 3   clarity  53940 non-null  object \n",
            " 4   depth    53940 non-null  float64\n",
            " 5   table    53940 non-null  float64\n",
            " 6   price    53940 non-null  int64  \n",
            " 7   x        53940 non-null  float64\n",
            " 8   y        53940 non-null  float64\n",
            " 9   z        53940 non-null  float64\n",
            "dtypes: float64(6), int64(1), object(3)\n",
            "memory usage: 4.1+ MB\n"
          ]
        }
      ],
      "source": [
        "data.info()"
      ]
    },
    {
      "cell_type": "code",
      "execution_count": 43,
      "metadata": {
        "colab": {
          "base_uri": "https://localhost:8080/",
          "height": 297
        },
        "id": "nJMncdaP_1jx",
        "outputId": "dcd5cfb6-b05f-4072-fa61-0975043032e3"
      },
      "outputs": [
        {
          "data": {
            "text/html": [
              "<div>\n",
              "<style scoped>\n",
              "    .dataframe tbody tr th:only-of-type {\n",
              "        vertical-align: middle;\n",
              "    }\n",
              "\n",
              "    .dataframe tbody tr th {\n",
              "        vertical-align: top;\n",
              "    }\n",
              "\n",
              "    .dataframe thead th {\n",
              "        text-align: right;\n",
              "    }\n",
              "</style>\n",
              "<table border=\"1\" class=\"dataframe\">\n",
              "  <thead>\n",
              "    <tr style=\"text-align: right;\">\n",
              "      <th></th>\n",
              "      <th>carat</th>\n",
              "      <th>depth</th>\n",
              "      <th>table</th>\n",
              "      <th>price</th>\n",
              "      <th>x</th>\n",
              "      <th>y</th>\n",
              "      <th>z</th>\n",
              "    </tr>\n",
              "  </thead>\n",
              "  <tbody>\n",
              "    <tr>\n",
              "      <th>count</th>\n",
              "      <td>53940.000000</td>\n",
              "      <td>53940.000000</td>\n",
              "      <td>53940.000000</td>\n",
              "      <td>53940.000000</td>\n",
              "      <td>53940.000000</td>\n",
              "      <td>53940.000000</td>\n",
              "      <td>53940.000000</td>\n",
              "    </tr>\n",
              "    <tr>\n",
              "      <th>mean</th>\n",
              "      <td>0.797940</td>\n",
              "      <td>61.749405</td>\n",
              "      <td>57.457184</td>\n",
              "      <td>3932.799722</td>\n",
              "      <td>5.731157</td>\n",
              "      <td>5.734526</td>\n",
              "      <td>3.538734</td>\n",
              "    </tr>\n",
              "    <tr>\n",
              "      <th>std</th>\n",
              "      <td>0.474011</td>\n",
              "      <td>1.432621</td>\n",
              "      <td>2.234491</td>\n",
              "      <td>3989.439738</td>\n",
              "      <td>1.121761</td>\n",
              "      <td>1.142135</td>\n",
              "      <td>0.705699</td>\n",
              "    </tr>\n",
              "    <tr>\n",
              "      <th>min</th>\n",
              "      <td>0.200000</td>\n",
              "      <td>43.000000</td>\n",
              "      <td>43.000000</td>\n",
              "      <td>326.000000</td>\n",
              "      <td>0.000000</td>\n",
              "      <td>0.000000</td>\n",
              "      <td>0.000000</td>\n",
              "    </tr>\n",
              "    <tr>\n",
              "      <th>25%</th>\n",
              "      <td>0.400000</td>\n",
              "      <td>61.000000</td>\n",
              "      <td>56.000000</td>\n",
              "      <td>950.000000</td>\n",
              "      <td>4.710000</td>\n",
              "      <td>4.720000</td>\n",
              "      <td>2.910000</td>\n",
              "    </tr>\n",
              "    <tr>\n",
              "      <th>50%</th>\n",
              "      <td>0.700000</td>\n",
              "      <td>61.800000</td>\n",
              "      <td>57.000000</td>\n",
              "      <td>2401.000000</td>\n",
              "      <td>5.700000</td>\n",
              "      <td>5.710000</td>\n",
              "      <td>3.530000</td>\n",
              "    </tr>\n",
              "    <tr>\n",
              "      <th>75%</th>\n",
              "      <td>1.040000</td>\n",
              "      <td>62.500000</td>\n",
              "      <td>59.000000</td>\n",
              "      <td>5324.250000</td>\n",
              "      <td>6.540000</td>\n",
              "      <td>6.540000</td>\n",
              "      <td>4.040000</td>\n",
              "    </tr>\n",
              "    <tr>\n",
              "      <th>max</th>\n",
              "      <td>5.010000</td>\n",
              "      <td>79.000000</td>\n",
              "      <td>95.000000</td>\n",
              "      <td>18823.000000</td>\n",
              "      <td>10.740000</td>\n",
              "      <td>58.900000</td>\n",
              "      <td>31.800000</td>\n",
              "    </tr>\n",
              "  </tbody>\n",
              "</table>\n",
              "</div>"
            ],
            "text/plain": [
              "              carat         depth         table         price             x  \\\n",
              "count  53940.000000  53940.000000  53940.000000  53940.000000  53940.000000   \n",
              "mean       0.797940     61.749405     57.457184   3932.799722      5.731157   \n",
              "std        0.474011      1.432621      2.234491   3989.439738      1.121761   \n",
              "min        0.200000     43.000000     43.000000    326.000000      0.000000   \n",
              "25%        0.400000     61.000000     56.000000    950.000000      4.710000   \n",
              "50%        0.700000     61.800000     57.000000   2401.000000      5.700000   \n",
              "75%        1.040000     62.500000     59.000000   5324.250000      6.540000   \n",
              "max        5.010000     79.000000     95.000000  18823.000000     10.740000   \n",
              "\n",
              "                  y             z  \n",
              "count  53940.000000  53940.000000  \n",
              "mean       5.734526      3.538734  \n",
              "std        1.142135      0.705699  \n",
              "min        0.000000      0.000000  \n",
              "25%        4.720000      2.910000  \n",
              "50%        5.710000      3.530000  \n",
              "75%        6.540000      4.040000  \n",
              "max       58.900000     31.800000  "
            ]
          },
          "execution_count": 43,
          "metadata": {},
          "output_type": "execute_result"
        }
      ],
      "source": [
        "data.describe()"
      ]
    },
    {
      "cell_type": "code",
      "execution_count": 44,
      "metadata": {
        "colab": {
          "base_uri": "https://localhost:8080/"
        },
        "id": "hp4pSKj2_3TM",
        "outputId": "6b1e1345-6772-4987-e488-347e05b86271"
      },
      "outputs": [
        {
          "data": {
            "text/plain": [
              "(53940, 10)"
            ]
          },
          "execution_count": 44,
          "metadata": {},
          "output_type": "execute_result"
        }
      ],
      "source": [
        "data.shape"
      ]
    },
    {
      "cell_type": "code",
      "execution_count": 45,
      "metadata": {
        "colab": {
          "base_uri": "https://localhost:8080/"
        },
        "id": "fVEhiq07ASkh",
        "outputId": "9eb004a8-acba-4f60-fad3-d08badd0d256"
      },
      "outputs": [
        {
          "data": {
            "text/plain": [
              "Index(['carat', 'cut', 'color', 'clarity', 'depth', 'table', 'price', 'x', 'y',\n",
              "       'z'],\n",
              "      dtype='object')"
            ]
          },
          "execution_count": 45,
          "metadata": {},
          "output_type": "execute_result"
        }
      ],
      "source": [
        "data.columns"
      ]
    },
    {
      "cell_type": "code",
      "execution_count": 46,
      "metadata": {
        "colab": {
          "base_uri": "https://localhost:8080/"
        },
        "id": "z2IC6IT5AWUT",
        "outputId": "e6d8a565-58c1-42fd-d486-414c5cb60965"
      },
      "outputs": [
        {
          "data": {
            "text/plain": [
              "carat      0\n",
              "cut        0\n",
              "color      0\n",
              "clarity    0\n",
              "depth      0\n",
              "table      0\n",
              "price      0\n",
              "x          0\n",
              "y          0\n",
              "z          0\n",
              "dtype: int64"
            ]
          },
          "execution_count": 46,
          "metadata": {},
          "output_type": "execute_result"
        }
      ],
      "source": [
        "data.isnull().sum()"
      ]
    },
    {
      "cell_type": "code",
      "execution_count": 47,
      "metadata": {
        "colab": {
          "base_uri": "https://localhost:8080/",
          "height": 204
        },
        "id": "-HIrczZOAYxe",
        "outputId": "da7cdfc9-dc14-42f9-818f-9a062d75172f"
      },
      "outputs": [
        {
          "data": {
            "text/html": [
              "<div>\n",
              "<style scoped>\n",
              "    .dataframe tbody tr th:only-of-type {\n",
              "        vertical-align: middle;\n",
              "    }\n",
              "\n",
              "    .dataframe tbody tr th {\n",
              "        vertical-align: top;\n",
              "    }\n",
              "\n",
              "    .dataframe thead th {\n",
              "        text-align: right;\n",
              "    }\n",
              "</style>\n",
              "<table border=\"1\" class=\"dataframe\">\n",
              "  <thead>\n",
              "    <tr style=\"text-align: right;\">\n",
              "      <th></th>\n",
              "      <th>carat</th>\n",
              "      <th>cut</th>\n",
              "      <th>color</th>\n",
              "      <th>clarity</th>\n",
              "      <th>depth</th>\n",
              "      <th>table</th>\n",
              "      <th>x</th>\n",
              "      <th>y</th>\n",
              "      <th>z</th>\n",
              "      <th>price</th>\n",
              "    </tr>\n",
              "  </thead>\n",
              "  <tbody>\n",
              "    <tr>\n",
              "      <th>0</th>\n",
              "      <td>0.23</td>\n",
              "      <td>Ideal</td>\n",
              "      <td>E</td>\n",
              "      <td>SI2</td>\n",
              "      <td>61.5</td>\n",
              "      <td>55.0</td>\n",
              "      <td>3.95</td>\n",
              "      <td>3.98</td>\n",
              "      <td>2.43</td>\n",
              "      <td>326</td>\n",
              "    </tr>\n",
              "    <tr>\n",
              "      <th>1</th>\n",
              "      <td>0.21</td>\n",
              "      <td>Premium</td>\n",
              "      <td>E</td>\n",
              "      <td>SI1</td>\n",
              "      <td>59.8</td>\n",
              "      <td>61.0</td>\n",
              "      <td>3.89</td>\n",
              "      <td>3.84</td>\n",
              "      <td>2.31</td>\n",
              "      <td>326</td>\n",
              "    </tr>\n",
              "    <tr>\n",
              "      <th>2</th>\n",
              "      <td>0.23</td>\n",
              "      <td>Good</td>\n",
              "      <td>E</td>\n",
              "      <td>VS1</td>\n",
              "      <td>56.9</td>\n",
              "      <td>65.0</td>\n",
              "      <td>4.05</td>\n",
              "      <td>4.07</td>\n",
              "      <td>2.31</td>\n",
              "      <td>327</td>\n",
              "    </tr>\n",
              "    <tr>\n",
              "      <th>3</th>\n",
              "      <td>0.29</td>\n",
              "      <td>Premium</td>\n",
              "      <td>I</td>\n",
              "      <td>VS2</td>\n",
              "      <td>62.4</td>\n",
              "      <td>58.0</td>\n",
              "      <td>4.20</td>\n",
              "      <td>4.23</td>\n",
              "      <td>2.63</td>\n",
              "      <td>334</td>\n",
              "    </tr>\n",
              "    <tr>\n",
              "      <th>4</th>\n",
              "      <td>0.31</td>\n",
              "      <td>Good</td>\n",
              "      <td>J</td>\n",
              "      <td>SI2</td>\n",
              "      <td>63.3</td>\n",
              "      <td>58.0</td>\n",
              "      <td>4.34</td>\n",
              "      <td>4.35</td>\n",
              "      <td>2.75</td>\n",
              "      <td>335</td>\n",
              "    </tr>\n",
              "  </tbody>\n",
              "</table>\n",
              "</div>"
            ],
            "text/plain": [
              "   carat      cut color clarity  depth  table     x     y     z  price\n",
              "0   0.23    Ideal     E     SI2   61.5   55.0  3.95  3.98  2.43    326\n",
              "1   0.21  Premium     E     SI1   59.8   61.0  3.89  3.84  2.31    326\n",
              "2   0.23     Good     E     VS1   56.9   65.0  4.05  4.07  2.31    327\n",
              "3   0.29  Premium     I     VS2   62.4   58.0  4.20  4.23  2.63    334\n",
              "4   0.31     Good     J     SI2   63.3   58.0  4.34  4.35  2.75    335"
            ]
          },
          "execution_count": 47,
          "metadata": {},
          "output_type": "execute_result"
        }
      ],
      "source": [
        "data = data[['carat', 'cut', 'color', 'clarity', 'depth', 'table', 'x', 'y', 'z','price']]\n",
        "data.head()"
      ]
    },
    {
      "cell_type": "code",
      "execution_count": 48,
      "metadata": {
        "id": "_zlU0XtI8j13"
      },
      "outputs": [],
      "source": [
        "#sns.set(style=\"ticks\", color_codes=True)\n",
        "#sns.pairplot(data[['carat', 'depth', 'table', 'x', 'y', 'z','price']], kind = 'reg', plot_kws={'line_kws':{'color':'red'}})"
      ]
    },
    {
      "cell_type": "code",
      "execution_count": 49,
      "metadata": {
        "id": "sD8yKlYsAykN"
      },
      "outputs": [],
      "source": [
        "X = data.iloc[:,:-1]\n",
        "y = data.iloc[:,-1]"
      ]
    },
    {
      "attachments": {},
      "cell_type": "markdown",
      "metadata": {
        "id": "1RKE0ie3u-ZS"
      },
      "source": [
        "## Split Dataset"
      ]
    },
    {
      "cell_type": "code",
      "execution_count": 50,
      "metadata": {
        "id": "KBnlO_2fBLSs"
      },
      "outputs": [],
      "source": [
        "X_train, X_test, y_train, y_test = train_test_split(X, y, test_size = 0.25, random_state = 42)"
      ]
    },
    {
      "cell_type": "code",
      "execution_count": 51,
      "metadata": {
        "colab": {
          "base_uri": "https://localhost:8080/"
        },
        "id": "f_fUaWtBCBmu",
        "outputId": "18fdf34c-23fa-4e05-dbed-18e68f8e687e"
      },
      "outputs": [
        {
          "name": "stdout",
          "output_type": "stream",
          "text": [
            "X_train Shape: (40455, 9)\n",
            "y_train Shape: (40455,)\n",
            "X_test Shape: (13485, 9)\n",
            "y_test Shape: (13485,)\n"
          ]
        }
      ],
      "source": [
        "print('X_train Shape:', X_train.shape)\n",
        "print('y_train Shape:', y_train.shape)\n",
        "print('X_test Shape:', X_test.shape)\n",
        "print('y_test Shape:', y_test.shape)"
      ]
    },
    {
      "cell_type": "code",
      "execution_count": 52,
      "metadata": {
        "colab": {
          "base_uri": "https://localhost:8080/"
        },
        "id": "2G7RrMiTCLRV",
        "outputId": "835609c9-9795-4584-bf31-ab44b2f7a1d4"
      },
      "outputs": [
        {
          "data": {
            "text/plain": [
              "carat      float64\n",
              "cut         object\n",
              "color       object\n",
              "clarity     object\n",
              "depth      float64\n",
              "table      float64\n",
              "x          float64\n",
              "y          float64\n",
              "z          float64\n",
              "dtype: object"
            ]
          },
          "execution_count": 52,
          "metadata": {},
          "output_type": "execute_result"
        }
      ],
      "source": [
        "X_train.dtypes"
      ]
    },
    {
      "cell_type": "code",
      "execution_count": 53,
      "metadata": {
        "colab": {
          "base_uri": "https://localhost:8080/",
          "height": 204
        },
        "id": "AjKXSwy0CY8X",
        "outputId": "267482bf-14e5-45a6-ab1a-f66cc78e369a"
      },
      "outputs": [
        {
          "data": {
            "text/html": [
              "<div>\n",
              "<style scoped>\n",
              "    .dataframe tbody tr th:only-of-type {\n",
              "        vertical-align: middle;\n",
              "    }\n",
              "\n",
              "    .dataframe tbody tr th {\n",
              "        vertical-align: top;\n",
              "    }\n",
              "\n",
              "    .dataframe thead th {\n",
              "        text-align: right;\n",
              "    }\n",
              "</style>\n",
              "<table border=\"1\" class=\"dataframe\">\n",
              "  <thead>\n",
              "    <tr style=\"text-align: right;\">\n",
              "      <th></th>\n",
              "      <th>carat</th>\n",
              "      <th>depth</th>\n",
              "      <th>table</th>\n",
              "      <th>x</th>\n",
              "      <th>y</th>\n",
              "      <th>z</th>\n",
              "    </tr>\n",
              "  </thead>\n",
              "  <tbody>\n",
              "    <tr>\n",
              "      <th>35965</th>\n",
              "      <td>0.25</td>\n",
              "      <td>64.9</td>\n",
              "      <td>58.0</td>\n",
              "      <td>3.95</td>\n",
              "      <td>3.97</td>\n",
              "      <td>2.57</td>\n",
              "    </tr>\n",
              "    <tr>\n",
              "      <th>52281</th>\n",
              "      <td>0.84</td>\n",
              "      <td>61.8</td>\n",
              "      <td>56.0</td>\n",
              "      <td>6.04</td>\n",
              "      <td>6.07</td>\n",
              "      <td>3.74</td>\n",
              "    </tr>\n",
              "    <tr>\n",
              "      <th>6957</th>\n",
              "      <td>1.05</td>\n",
              "      <td>61.1</td>\n",
              "      <td>58.0</td>\n",
              "      <td>6.56</td>\n",
              "      <td>6.51</td>\n",
              "      <td>3.99</td>\n",
              "    </tr>\n",
              "    <tr>\n",
              "      <th>9163</th>\n",
              "      <td>1.02</td>\n",
              "      <td>60.7</td>\n",
              "      <td>56.0</td>\n",
              "      <td>6.53</td>\n",
              "      <td>6.50</td>\n",
              "      <td>3.95</td>\n",
              "    </tr>\n",
              "    <tr>\n",
              "      <th>50598</th>\n",
              "      <td>0.61</td>\n",
              "      <td>61.8</td>\n",
              "      <td>57.0</td>\n",
              "      <td>5.43</td>\n",
              "      <td>5.47</td>\n",
              "      <td>3.37</td>\n",
              "    </tr>\n",
              "  </tbody>\n",
              "</table>\n",
              "</div>"
            ],
            "text/plain": [
              "       carat  depth  table     x     y     z\n",
              "35965   0.25   64.9   58.0  3.95  3.97  2.57\n",
              "52281   0.84   61.8   56.0  6.04  6.07  3.74\n",
              "6957    1.05   61.1   58.0  6.56  6.51  3.99\n",
              "9163    1.02   60.7   56.0  6.53  6.50  3.95\n",
              "50598   0.61   61.8   57.0  5.43  5.47  3.37"
            ]
          },
          "execution_count": 53,
          "metadata": {},
          "output_type": "execute_result"
        }
      ],
      "source": [
        "X_train_num = X_train.select_dtypes('float64')\n",
        "X_train_num.head()"
      ]
    },
    {
      "cell_type": "code",
      "execution_count": 54,
      "metadata": {
        "colab": {
          "base_uri": "https://localhost:8080/",
          "height": 204
        },
        "id": "wUJQgfbRCe5W",
        "outputId": "0767f1c4-88d5-4e78-f6ab-fd8124827ac5"
      },
      "outputs": [
        {
          "data": {
            "text/html": [
              "<div>\n",
              "<style scoped>\n",
              "    .dataframe tbody tr th:only-of-type {\n",
              "        vertical-align: middle;\n",
              "    }\n",
              "\n",
              "    .dataframe tbody tr th {\n",
              "        vertical-align: top;\n",
              "    }\n",
              "\n",
              "    .dataframe thead th {\n",
              "        text-align: right;\n",
              "    }\n",
              "</style>\n",
              "<table border=\"1\" class=\"dataframe\">\n",
              "  <thead>\n",
              "    <tr style=\"text-align: right;\">\n",
              "      <th></th>\n",
              "      <th>cut</th>\n",
              "      <th>color</th>\n",
              "      <th>clarity</th>\n",
              "    </tr>\n",
              "  </thead>\n",
              "  <tbody>\n",
              "    <tr>\n",
              "      <th>35965</th>\n",
              "      <td>Good</td>\n",
              "      <td>E</td>\n",
              "      <td>VVS2</td>\n",
              "    </tr>\n",
              "    <tr>\n",
              "      <th>52281</th>\n",
              "      <td>Ideal</td>\n",
              "      <td>J</td>\n",
              "      <td>SI1</td>\n",
              "    </tr>\n",
              "    <tr>\n",
              "      <th>6957</th>\n",
              "      <td>Premium</td>\n",
              "      <td>J</td>\n",
              "      <td>VS2</td>\n",
              "    </tr>\n",
              "    <tr>\n",
              "      <th>9163</th>\n",
              "      <td>Ideal</td>\n",
              "      <td>F</td>\n",
              "      <td>SI2</td>\n",
              "    </tr>\n",
              "    <tr>\n",
              "      <th>50598</th>\n",
              "      <td>Ideal</td>\n",
              "      <td>F</td>\n",
              "      <td>VS1</td>\n",
              "    </tr>\n",
              "  </tbody>\n",
              "</table>\n",
              "</div>"
            ],
            "text/plain": [
              "           cut color clarity\n",
              "35965     Good     E    VVS2\n",
              "52281    Ideal     J     SI1\n",
              "6957   Premium     J     VS2\n",
              "9163     Ideal     F     SI2\n",
              "50598    Ideal     F     VS1"
            ]
          },
          "execution_count": 54,
          "metadata": {},
          "output_type": "execute_result"
        }
      ],
      "source": [
        "X_train_cat = X_train.select_dtypes('object')\n",
        "X_train_cat.head()"
      ]
    },
    {
      "attachments": {},
      "cell_type": "markdown",
      "metadata": {
        "id": "6OEY6Y3JvCVW"
      },
      "source": [
        "## Data Preprocessing"
      ]
    },
    {
      "cell_type": "code",
      "execution_count": 55,
      "metadata": {
        "colab": {
          "base_uri": "https://localhost:8080/",
          "height": 204
        },
        "id": "agGyFcXBCrqF",
        "outputId": "d340f18f-51f8-4679-f335-a78377c37b92"
      },
      "outputs": [
        {
          "data": {
            "text/html": [
              "<div>\n",
              "<style scoped>\n",
              "    .dataframe tbody tr th:only-of-type {\n",
              "        vertical-align: middle;\n",
              "    }\n",
              "\n",
              "    .dataframe tbody tr th {\n",
              "        vertical-align: top;\n",
              "    }\n",
              "\n",
              "    .dataframe thead th {\n",
              "        text-align: right;\n",
              "    }\n",
              "</style>\n",
              "<table border=\"1\" class=\"dataframe\">\n",
              "  <thead>\n",
              "    <tr style=\"text-align: right;\">\n",
              "      <th></th>\n",
              "      <th>carat</th>\n",
              "      <th>depth</th>\n",
              "      <th>table</th>\n",
              "      <th>x</th>\n",
              "      <th>y</th>\n",
              "      <th>z</th>\n",
              "    </tr>\n",
              "  </thead>\n",
              "  <tbody>\n",
              "    <tr>\n",
              "      <th>35965</th>\n",
              "      <td>-1.156665</td>\n",
              "      <td>2.207837</td>\n",
              "      <td>0.242414</td>\n",
              "      <td>-1.589985</td>\n",
              "      <td>-1.544446</td>\n",
              "      <td>-1.365816</td>\n",
              "    </tr>\n",
              "    <tr>\n",
              "      <th>52281</th>\n",
              "      <td>0.086917</td>\n",
              "      <td>0.038517</td>\n",
              "      <td>-0.654923</td>\n",
              "      <td>0.273560</td>\n",
              "      <td>0.291506</td>\n",
              "      <td>0.282149</td>\n",
              "    </tr>\n",
              "    <tr>\n",
              "      <th>6957</th>\n",
              "      <td>0.529547</td>\n",
              "      <td>-0.451329</td>\n",
              "      <td>0.242414</td>\n",
              "      <td>0.737217</td>\n",
              "      <td>0.676181</td>\n",
              "      <td>0.634279</td>\n",
              "    </tr>\n",
              "    <tr>\n",
              "      <th>9163</th>\n",
              "      <td>0.466314</td>\n",
              "      <td>-0.731242</td>\n",
              "      <td>-0.654923</td>\n",
              "      <td>0.710468</td>\n",
              "      <td>0.667439</td>\n",
              "      <td>0.577938</td>\n",
              "    </tr>\n",
              "    <tr>\n",
              "      <th>50598</th>\n",
              "      <td>-0.397869</td>\n",
              "      <td>0.038517</td>\n",
              "      <td>-0.206254</td>\n",
              "      <td>-0.270345</td>\n",
              "      <td>-0.233052</td>\n",
              "      <td>-0.239002</td>\n",
              "    </tr>\n",
              "  </tbody>\n",
              "</table>\n",
              "</div>"
            ],
            "text/plain": [
              "          carat     depth     table         x         y         z\n",
              "35965 -1.156665  2.207837  0.242414 -1.589985 -1.544446 -1.365816\n",
              "52281  0.086917  0.038517 -0.654923  0.273560  0.291506  0.282149\n",
              "6957   0.529547 -0.451329  0.242414  0.737217  0.676181  0.634279\n",
              "9163   0.466314 -0.731242 -0.654923  0.710468  0.667439  0.577938\n",
              "50598 -0.397869  0.038517 -0.206254 -0.270345 -0.233052 -0.239002"
            ]
          },
          "execution_count": 55,
          "metadata": {},
          "output_type": "execute_result"
        }
      ],
      "source": [
        "scaler = StandardScaler()\n",
        "X_train_num_transform = pd.DataFrame(scaler.fit_transform(X_train_num),columns = X_train_num.columns, index = X_train_num.index)\n",
        "X_train_num_transform.head()"
      ]
    },
    {
      "cell_type": "code",
      "execution_count": 56,
      "metadata": {
        "colab": {
          "base_uri": "https://localhost:8080/",
          "height": 297
        },
        "id": "-o9Da307DLzB",
        "outputId": "74dd4dc3-4eeb-4495-c316-b299a0dd4424"
      },
      "outputs": [
        {
          "data": {
            "text/html": [
              "<div>\n",
              "<style scoped>\n",
              "    .dataframe tbody tr th:only-of-type {\n",
              "        vertical-align: middle;\n",
              "    }\n",
              "\n",
              "    .dataframe tbody tr th {\n",
              "        vertical-align: top;\n",
              "    }\n",
              "\n",
              "    .dataframe thead th {\n",
              "        text-align: right;\n",
              "    }\n",
              "</style>\n",
              "<table border=\"1\" class=\"dataframe\">\n",
              "  <thead>\n",
              "    <tr style=\"text-align: right;\">\n",
              "      <th></th>\n",
              "      <th>carat</th>\n",
              "      <th>depth</th>\n",
              "      <th>table</th>\n",
              "      <th>x</th>\n",
              "      <th>y</th>\n",
              "      <th>z</th>\n",
              "    </tr>\n",
              "  </thead>\n",
              "  <tbody>\n",
              "    <tr>\n",
              "      <th>count</th>\n",
              "      <td>40455.000000</td>\n",
              "      <td>40455.000000</td>\n",
              "      <td>40455.000000</td>\n",
              "      <td>40455.000000</td>\n",
              "      <td>40455.000000</td>\n",
              "      <td>40455.000000</td>\n",
              "    </tr>\n",
              "    <tr>\n",
              "      <th>mean</th>\n",
              "      <td>0.798764</td>\n",
              "      <td>61.744959</td>\n",
              "      <td>57.459703</td>\n",
              "      <td>5.733197</td>\n",
              "      <td>5.736570</td>\n",
              "      <td>3.539683</td>\n",
              "    </tr>\n",
              "    <tr>\n",
              "      <th>std</th>\n",
              "      <td>0.474442</td>\n",
              "      <td>1.429037</td>\n",
              "      <td>2.228845</td>\n",
              "      <td>1.121532</td>\n",
              "      <td>1.143835</td>\n",
              "      <td>0.709975</td>\n",
              "    </tr>\n",
              "    <tr>\n",
              "      <th>min</th>\n",
              "      <td>0.200000</td>\n",
              "      <td>43.000000</td>\n",
              "      <td>43.000000</td>\n",
              "      <td>0.000000</td>\n",
              "      <td>0.000000</td>\n",
              "      <td>0.000000</td>\n",
              "    </tr>\n",
              "    <tr>\n",
              "      <th>25%</th>\n",
              "      <td>0.400000</td>\n",
              "      <td>61.000000</td>\n",
              "      <td>56.000000</td>\n",
              "      <td>4.720000</td>\n",
              "      <td>4.730000</td>\n",
              "      <td>2.910000</td>\n",
              "    </tr>\n",
              "    <tr>\n",
              "      <th>50%</th>\n",
              "      <td>0.700000</td>\n",
              "      <td>61.800000</td>\n",
              "      <td>57.000000</td>\n",
              "      <td>5.700000</td>\n",
              "      <td>5.710000</td>\n",
              "      <td>3.530000</td>\n",
              "    </tr>\n",
              "    <tr>\n",
              "      <th>75%</th>\n",
              "      <td>1.040000</td>\n",
              "      <td>62.500000</td>\n",
              "      <td>59.000000</td>\n",
              "      <td>6.540000</td>\n",
              "      <td>6.540000</td>\n",
              "      <td>4.040000</td>\n",
              "    </tr>\n",
              "    <tr>\n",
              "      <th>max</th>\n",
              "      <td>5.010000</td>\n",
              "      <td>79.000000</td>\n",
              "      <td>95.000000</td>\n",
              "      <td>10.740000</td>\n",
              "      <td>58.900000</td>\n",
              "      <td>31.800000</td>\n",
              "    </tr>\n",
              "  </tbody>\n",
              "</table>\n",
              "</div>"
            ],
            "text/plain": [
              "              carat         depth         table             x             y  \\\n",
              "count  40455.000000  40455.000000  40455.000000  40455.000000  40455.000000   \n",
              "mean       0.798764     61.744959     57.459703      5.733197      5.736570   \n",
              "std        0.474442      1.429037      2.228845      1.121532      1.143835   \n",
              "min        0.200000     43.000000     43.000000      0.000000      0.000000   \n",
              "25%        0.400000     61.000000     56.000000      4.720000      4.730000   \n",
              "50%        0.700000     61.800000     57.000000      5.700000      5.710000   \n",
              "75%        1.040000     62.500000     59.000000      6.540000      6.540000   \n",
              "max        5.010000     79.000000     95.000000     10.740000     58.900000   \n",
              "\n",
              "                  z  \n",
              "count  40455.000000  \n",
              "mean       3.539683  \n",
              "std        0.709975  \n",
              "min        0.000000  \n",
              "25%        2.910000  \n",
              "50%        3.530000  \n",
              "75%        4.040000  \n",
              "max       31.800000  "
            ]
          },
          "execution_count": 56,
          "metadata": {},
          "output_type": "execute_result"
        }
      ],
      "source": [
        "X_train_num.describe()"
      ]
    },
    {
      "cell_type": "code",
      "execution_count": 57,
      "metadata": {
        "colab": {
          "base_uri": "https://localhost:8080/"
        },
        "id": "L38Rf4kiD6DP",
        "outputId": "5da08ed6-0407-4c94-a7ac-c855d68df82b"
      },
      "outputs": [
        {
          "name": "stdout",
          "output_type": "stream",
          "text": [
            "Number of Features: 6\n",
            "Average of each column [ 0.79876356 61.7449586  57.45970337  5.73319738  5.73656977  3.53968335]\n",
            "Variance of each column [0.22508969 2.04209639 4.96762745 1.25780335 1.30832582 0.50405228]\n"
          ]
        }
      ],
      "source": [
        "print('Number of Features:', scaler.n_features_in_)\n",
        "print('Average of each column', scaler.mean_)\n",
        "print('Variance of each column', scaler.var_)"
      ]
    },
    {
      "cell_type": "code",
      "execution_count": 58,
      "metadata": {
        "colab": {
          "base_uri": "https://localhost:8080/"
        },
        "id": "l0aRJFRKD-vu",
        "outputId": "f217bc91-e432-43c5-9b3d-4e7af5121e68"
      },
      "outputs": [
        {
          "data": {
            "text/plain": [
              "SI1     0.244197\n",
              "VS2     0.227314\n",
              "SI2     0.169448\n",
              "VS1     0.151477\n",
              "VVS2    0.093017\n",
              "VVS1    0.067853\n",
              "IF      0.033197\n",
              "I1      0.013496\n",
              "Name: clarity, dtype: float64"
            ]
          },
          "execution_count": 58,
          "metadata": {},
          "output_type": "execute_result"
        }
      ],
      "source": [
        "X_train_cat['clarity'].value_counts(normalize = True)"
      ]
    },
    {
      "cell_type": "code",
      "execution_count": 59,
      "metadata": {
        "colab": {
          "base_uri": "https://localhost:8080/"
        },
        "id": "vsQf3M3XEgyI",
        "outputId": "e9cc1171-0afa-4e5f-81f6-2410d57dc9a1"
      },
      "outputs": [
        {
          "data": {
            "text/plain": [
              "Ideal        0.400099\n",
              "Premium      0.254826\n",
              "Very Good    0.225287\n",
              "Good         0.089902\n",
              "Fair         0.029885\n",
              "Name: cut, dtype: float64"
            ]
          },
          "execution_count": 59,
          "metadata": {},
          "output_type": "execute_result"
        }
      ],
      "source": [
        "X_train_cat['cut'].value_counts(normalize = True)"
      ]
    },
    {
      "cell_type": "code",
      "execution_count": 60,
      "metadata": {
        "colab": {
          "base_uri": "https://localhost:8080/"
        },
        "id": "WYpvvNoeEmUV",
        "outputId": "7351f6c1-4005-4fc3-d796-7ec927665eab"
      },
      "outputs": [
        {
          "data": {
            "text/plain": [
              "G    0.207885\n",
              "E    0.181906\n",
              "F    0.177407\n",
              "H    0.156075\n",
              "D    0.125423\n",
              "I    0.099246\n",
              "J    0.052058\n",
              "Name: color, dtype: float64"
            ]
          },
          "execution_count": 60,
          "metadata": {},
          "output_type": "execute_result"
        }
      ],
      "source": [
        "X_train_cat['color'].value_counts(normalize = True)"
      ]
    },
    {
      "cell_type": "code",
      "execution_count": 61,
      "metadata": {
        "colab": {
          "base_uri": "https://localhost:8080/",
          "height": 419
        },
        "id": "IWxhGq2d6qwU",
        "outputId": "d78a02d1-fc9b-458b-b5b2-f233b5f10e33"
      },
      "outputs": [
        {
          "data": {
            "text/html": [
              "<div>\n",
              "<style scoped>\n",
              "    .dataframe tbody tr th:only-of-type {\n",
              "        vertical-align: middle;\n",
              "    }\n",
              "\n",
              "    .dataframe tbody tr th {\n",
              "        vertical-align: top;\n",
              "    }\n",
              "\n",
              "    .dataframe thead th {\n",
              "        text-align: right;\n",
              "    }\n",
              "</style>\n",
              "<table border=\"1\" class=\"dataframe\">\n",
              "  <thead>\n",
              "    <tr style=\"text-align: right;\">\n",
              "      <th></th>\n",
              "      <th>cut</th>\n",
              "      <th>color</th>\n",
              "      <th>clarity</th>\n",
              "    </tr>\n",
              "  </thead>\n",
              "  <tbody>\n",
              "    <tr>\n",
              "      <th>35965</th>\n",
              "      <td>Good</td>\n",
              "      <td>E</td>\n",
              "      <td>VVS2</td>\n",
              "    </tr>\n",
              "    <tr>\n",
              "      <th>52281</th>\n",
              "      <td>Ideal</td>\n",
              "      <td>J</td>\n",
              "      <td>SI1</td>\n",
              "    </tr>\n",
              "    <tr>\n",
              "      <th>6957</th>\n",
              "      <td>Premium</td>\n",
              "      <td>J</td>\n",
              "      <td>VS2</td>\n",
              "    </tr>\n",
              "    <tr>\n",
              "      <th>9163</th>\n",
              "      <td>Ideal</td>\n",
              "      <td>F</td>\n",
              "      <td>SI2</td>\n",
              "    </tr>\n",
              "    <tr>\n",
              "      <th>50598</th>\n",
              "      <td>Ideal</td>\n",
              "      <td>F</td>\n",
              "      <td>VS1</td>\n",
              "    </tr>\n",
              "    <tr>\n",
              "      <th>...</th>\n",
              "      <td>...</td>\n",
              "      <td>...</td>\n",
              "      <td>...</td>\n",
              "    </tr>\n",
              "    <tr>\n",
              "      <th>11284</th>\n",
              "      <td>Very Good</td>\n",
              "      <td>I</td>\n",
              "      <td>VS2</td>\n",
              "    </tr>\n",
              "    <tr>\n",
              "      <th>44732</th>\n",
              "      <td>Ideal</td>\n",
              "      <td>D</td>\n",
              "      <td>VS1</td>\n",
              "    </tr>\n",
              "    <tr>\n",
              "      <th>38158</th>\n",
              "      <td>Very Good</td>\n",
              "      <td>F</td>\n",
              "      <td>IF</td>\n",
              "    </tr>\n",
              "    <tr>\n",
              "      <th>860</th>\n",
              "      <td>Premium</td>\n",
              "      <td>J</td>\n",
              "      <td>SI1</td>\n",
              "    </tr>\n",
              "    <tr>\n",
              "      <th>15795</th>\n",
              "      <td>Premium</td>\n",
              "      <td>F</td>\n",
              "      <td>SI1</td>\n",
              "    </tr>\n",
              "  </tbody>\n",
              "</table>\n",
              "<p>40455 rows × 3 columns</p>\n",
              "</div>"
            ],
            "text/plain": [
              "             cut color clarity\n",
              "35965       Good     E    VVS2\n",
              "52281      Ideal     J     SI1\n",
              "6957     Premium     J     VS2\n",
              "9163       Ideal     F     SI2\n",
              "50598      Ideal     F     VS1\n",
              "...          ...   ...     ...\n",
              "11284  Very Good     I     VS2\n",
              "44732      Ideal     D     VS1\n",
              "38158  Very Good     F      IF\n",
              "860      Premium     J     SI1\n",
              "15795    Premium     F     SI1\n",
              "\n",
              "[40455 rows x 3 columns]"
            ]
          },
          "execution_count": 61,
          "metadata": {},
          "output_type": "execute_result"
        }
      ],
      "source": [
        "X_train_cat"
      ]
    },
    {
      "cell_type": "code",
      "execution_count": 62,
      "metadata": {
        "colab": {
          "base_uri": "https://localhost:8080/",
          "height": 204
        },
        "id": "ROR4HrFa1hNf",
        "outputId": "734223ae-41e3-475c-c0ad-c5ea11f915d5"
      },
      "outputs": [
        {
          "data": {
            "text/html": [
              "<div>\n",
              "<style scoped>\n",
              "    .dataframe tbody tr th:only-of-type {\n",
              "        vertical-align: middle;\n",
              "    }\n",
              "\n",
              "    .dataframe tbody tr th {\n",
              "        vertical-align: top;\n",
              "    }\n",
              "\n",
              "    .dataframe thead th {\n",
              "        text-align: right;\n",
              "    }\n",
              "</style>\n",
              "<table border=\"1\" class=\"dataframe\">\n",
              "  <thead>\n",
              "    <tr style=\"text-align: right;\">\n",
              "      <th></th>\n",
              "      <th>cut</th>\n",
              "      <th>color</th>\n",
              "      <th>clarity</th>\n",
              "    </tr>\n",
              "  </thead>\n",
              "  <tbody>\n",
              "    <tr>\n",
              "      <th>35965</th>\n",
              "      <td>1</td>\n",
              "      <td>5</td>\n",
              "      <td>5</td>\n",
              "    </tr>\n",
              "    <tr>\n",
              "      <th>52281</th>\n",
              "      <td>3</td>\n",
              "      <td>0</td>\n",
              "      <td>2</td>\n",
              "    </tr>\n",
              "    <tr>\n",
              "      <th>6957</th>\n",
              "      <td>4</td>\n",
              "      <td>0</td>\n",
              "      <td>3</td>\n",
              "    </tr>\n",
              "    <tr>\n",
              "      <th>9163</th>\n",
              "      <td>3</td>\n",
              "      <td>4</td>\n",
              "      <td>1</td>\n",
              "    </tr>\n",
              "    <tr>\n",
              "      <th>50598</th>\n",
              "      <td>3</td>\n",
              "      <td>4</td>\n",
              "      <td>4</td>\n",
              "    </tr>\n",
              "  </tbody>\n",
              "</table>\n",
              "</div>"
            ],
            "text/plain": [
              "       cut  color  clarity\n",
              "35965    1      5        5\n",
              "52281    3      0        2\n",
              "6957     4      0        3\n",
              "9163     3      4        1\n",
              "50598    3      4        4"
            ]
          },
          "execution_count": 62,
          "metadata": {},
          "output_type": "execute_result"
        }
      ],
      "source": [
        "cut_temp = ['Fair', 'Good', 'Very Good', 'Ideal', 'Premium']\n",
        "color_temp = ['J','I','H','G','F','E','D']\n",
        "clarity_temp = ['I1','SI2','SI1','VS2','VS1','VVS2','VVS1','IF']\n",
        "\n",
        "encoder = OrdinalEncoder(categories = [cut_temp, color_temp, clarity_temp], dtype = np.int64)\n",
        "X_train_cat_transform = pd.DataFrame(encoder.fit_transform(X_train_cat),columns = ['cut','color','clarity'],index = X_train_cat.index)\n",
        "X_train_cat_transform.head()"
      ]
    },
    {
      "cell_type": "code",
      "execution_count": 63,
      "metadata": {
        "colab": {
          "base_uri": "https://localhost:8080/",
          "height": 204
        },
        "id": "A9ZvuvOeGLs3",
        "outputId": "8d6a03eb-723e-4e53-f30c-f94d82306ca0"
      },
      "outputs": [
        {
          "data": {
            "text/html": [
              "<div>\n",
              "<style scoped>\n",
              "    .dataframe tbody tr th:only-of-type {\n",
              "        vertical-align: middle;\n",
              "    }\n",
              "\n",
              "    .dataframe tbody tr th {\n",
              "        vertical-align: top;\n",
              "    }\n",
              "\n",
              "    .dataframe thead th {\n",
              "        text-align: right;\n",
              "    }\n",
              "</style>\n",
              "<table border=\"1\" class=\"dataframe\">\n",
              "  <thead>\n",
              "    <tr style=\"text-align: right;\">\n",
              "      <th></th>\n",
              "      <th>carat</th>\n",
              "      <th>depth</th>\n",
              "      <th>table</th>\n",
              "      <th>x</th>\n",
              "      <th>y</th>\n",
              "      <th>z</th>\n",
              "      <th>cut</th>\n",
              "      <th>color</th>\n",
              "      <th>clarity</th>\n",
              "    </tr>\n",
              "  </thead>\n",
              "  <tbody>\n",
              "    <tr>\n",
              "      <th>35965</th>\n",
              "      <td>-1.156665</td>\n",
              "      <td>2.207837</td>\n",
              "      <td>0.242414</td>\n",
              "      <td>-1.589985</td>\n",
              "      <td>-1.544446</td>\n",
              "      <td>-1.365816</td>\n",
              "      <td>1</td>\n",
              "      <td>5</td>\n",
              "      <td>5</td>\n",
              "    </tr>\n",
              "    <tr>\n",
              "      <th>52281</th>\n",
              "      <td>0.086917</td>\n",
              "      <td>0.038517</td>\n",
              "      <td>-0.654923</td>\n",
              "      <td>0.273560</td>\n",
              "      <td>0.291506</td>\n",
              "      <td>0.282149</td>\n",
              "      <td>3</td>\n",
              "      <td>0</td>\n",
              "      <td>2</td>\n",
              "    </tr>\n",
              "    <tr>\n",
              "      <th>6957</th>\n",
              "      <td>0.529547</td>\n",
              "      <td>-0.451329</td>\n",
              "      <td>0.242414</td>\n",
              "      <td>0.737217</td>\n",
              "      <td>0.676181</td>\n",
              "      <td>0.634279</td>\n",
              "      <td>4</td>\n",
              "      <td>0</td>\n",
              "      <td>3</td>\n",
              "    </tr>\n",
              "    <tr>\n",
              "      <th>9163</th>\n",
              "      <td>0.466314</td>\n",
              "      <td>-0.731242</td>\n",
              "      <td>-0.654923</td>\n",
              "      <td>0.710468</td>\n",
              "      <td>0.667439</td>\n",
              "      <td>0.577938</td>\n",
              "      <td>3</td>\n",
              "      <td>4</td>\n",
              "      <td>1</td>\n",
              "    </tr>\n",
              "    <tr>\n",
              "      <th>50598</th>\n",
              "      <td>-0.397869</td>\n",
              "      <td>0.038517</td>\n",
              "      <td>-0.206254</td>\n",
              "      <td>-0.270345</td>\n",
              "      <td>-0.233052</td>\n",
              "      <td>-0.239002</td>\n",
              "      <td>3</td>\n",
              "      <td>4</td>\n",
              "      <td>4</td>\n",
              "    </tr>\n",
              "  </tbody>\n",
              "</table>\n",
              "</div>"
            ],
            "text/plain": [
              "          carat     depth     table         x         y         z  cut  color  \\\n",
              "35965 -1.156665  2.207837  0.242414 -1.589985 -1.544446 -1.365816    1      5   \n",
              "52281  0.086917  0.038517 -0.654923  0.273560  0.291506  0.282149    3      0   \n",
              "6957   0.529547 -0.451329  0.242414  0.737217  0.676181  0.634279    4      0   \n",
              "9163   0.466314 -0.731242 -0.654923  0.710468  0.667439  0.577938    3      4   \n",
              "50598 -0.397869  0.038517 -0.206254 -0.270345 -0.233052 -0.239002    3      4   \n",
              "\n",
              "       clarity  \n",
              "35965        5  \n",
              "52281        2  \n",
              "6957         3  \n",
              "9163         1  \n",
              "50598        4  "
            ]
          },
          "execution_count": 63,
          "metadata": {},
          "output_type": "execute_result"
        }
      ],
      "source": [
        "X_train_transform = pd.concat([X_train_num_transform, X_train_cat_transform], axis = 1)\n",
        "X_train_transform.head()"
      ]
    },
    {
      "cell_type": "code",
      "execution_count": 64,
      "metadata": {
        "colab": {
          "base_uri": "https://localhost:8080/",
          "height": 204
        },
        "id": "Iye1cjnhKC3V",
        "outputId": "0f0f11e7-c8d2-4219-82ef-e58ff8789bfa"
      },
      "outputs": [
        {
          "data": {
            "text/html": [
              "<div>\n",
              "<style scoped>\n",
              "    .dataframe tbody tr th:only-of-type {\n",
              "        vertical-align: middle;\n",
              "    }\n",
              "\n",
              "    .dataframe tbody tr th {\n",
              "        vertical-align: top;\n",
              "    }\n",
              "\n",
              "    .dataframe thead th {\n",
              "        text-align: right;\n",
              "    }\n",
              "</style>\n",
              "<table border=\"1\" class=\"dataframe\">\n",
              "  <thead>\n",
              "    <tr style=\"text-align: right;\">\n",
              "      <th></th>\n",
              "      <th>carat</th>\n",
              "      <th>cut</th>\n",
              "      <th>color</th>\n",
              "      <th>clarity</th>\n",
              "      <th>depth</th>\n",
              "      <th>table</th>\n",
              "      <th>x</th>\n",
              "      <th>y</th>\n",
              "      <th>z</th>\n",
              "    </tr>\n",
              "  </thead>\n",
              "  <tbody>\n",
              "    <tr>\n",
              "      <th>1388</th>\n",
              "      <td>0.24</td>\n",
              "      <td>Ideal</td>\n",
              "      <td>G</td>\n",
              "      <td>VVS1</td>\n",
              "      <td>62.1</td>\n",
              "      <td>56.0</td>\n",
              "      <td>3.97</td>\n",
              "      <td>4.00</td>\n",
              "      <td>2.47</td>\n",
              "    </tr>\n",
              "    <tr>\n",
              "      <th>50052</th>\n",
              "      <td>0.58</td>\n",
              "      <td>Very Good</td>\n",
              "      <td>F</td>\n",
              "      <td>VVS2</td>\n",
              "      <td>60.0</td>\n",
              "      <td>57.0</td>\n",
              "      <td>5.44</td>\n",
              "      <td>5.42</td>\n",
              "      <td>3.26</td>\n",
              "    </tr>\n",
              "    <tr>\n",
              "      <th>41645</th>\n",
              "      <td>0.40</td>\n",
              "      <td>Ideal</td>\n",
              "      <td>E</td>\n",
              "      <td>VVS2</td>\n",
              "      <td>62.1</td>\n",
              "      <td>55.0</td>\n",
              "      <td>4.76</td>\n",
              "      <td>4.74</td>\n",
              "      <td>2.95</td>\n",
              "    </tr>\n",
              "    <tr>\n",
              "      <th>42377</th>\n",
              "      <td>0.43</td>\n",
              "      <td>Premium</td>\n",
              "      <td>E</td>\n",
              "      <td>VVS2</td>\n",
              "      <td>60.8</td>\n",
              "      <td>57.0</td>\n",
              "      <td>4.92</td>\n",
              "      <td>4.89</td>\n",
              "      <td>2.98</td>\n",
              "    </tr>\n",
              "    <tr>\n",
              "      <th>17244</th>\n",
              "      <td>1.55</td>\n",
              "      <td>Ideal</td>\n",
              "      <td>E</td>\n",
              "      <td>SI2</td>\n",
              "      <td>62.3</td>\n",
              "      <td>55.0</td>\n",
              "      <td>7.44</td>\n",
              "      <td>7.37</td>\n",
              "      <td>4.61</td>\n",
              "    </tr>\n",
              "  </tbody>\n",
              "</table>\n",
              "</div>"
            ],
            "text/plain": [
              "       carat        cut color clarity  depth  table     x     y     z\n",
              "1388    0.24      Ideal     G    VVS1   62.1   56.0  3.97  4.00  2.47\n",
              "50052   0.58  Very Good     F    VVS2   60.0   57.0  5.44  5.42  3.26\n",
              "41645   0.40      Ideal     E    VVS2   62.1   55.0  4.76  4.74  2.95\n",
              "42377   0.43    Premium     E    VVS2   60.8   57.0  4.92  4.89  2.98\n",
              "17244   1.55      Ideal     E     SI2   62.3   55.0  7.44  7.37  4.61"
            ]
          },
          "execution_count": 64,
          "metadata": {},
          "output_type": "execute_result"
        }
      ],
      "source": [
        "X_test.head()"
      ]
    },
    {
      "cell_type": "code",
      "execution_count": 65,
      "metadata": {
        "colab": {
          "base_uri": "https://localhost:8080/",
          "height": 204
        },
        "id": "VRA-ViP1Kg_A",
        "outputId": "4cd74702-e8ff-4760-decd-c1bdd9e31d1d"
      },
      "outputs": [
        {
          "data": {
            "text/html": [
              "<div>\n",
              "<style scoped>\n",
              "    .dataframe tbody tr th:only-of-type {\n",
              "        vertical-align: middle;\n",
              "    }\n",
              "\n",
              "    .dataframe tbody tr th {\n",
              "        vertical-align: top;\n",
              "    }\n",
              "\n",
              "    .dataframe thead th {\n",
              "        text-align: right;\n",
              "    }\n",
              "</style>\n",
              "<table border=\"1\" class=\"dataframe\">\n",
              "  <thead>\n",
              "    <tr style=\"text-align: right;\">\n",
              "      <th></th>\n",
              "      <th>carat</th>\n",
              "      <th>depth</th>\n",
              "      <th>table</th>\n",
              "      <th>x</th>\n",
              "      <th>y</th>\n",
              "      <th>z</th>\n",
              "      <th>cut</th>\n",
              "      <th>color</th>\n",
              "      <th>clarity</th>\n",
              "    </tr>\n",
              "  </thead>\n",
              "  <tbody>\n",
              "    <tr>\n",
              "      <th>1388</th>\n",
              "      <td>-1.177742</td>\n",
              "      <td>0.248451</td>\n",
              "      <td>-0.654923</td>\n",
              "      <td>-1.572152</td>\n",
              "      <td>-1.518219</td>\n",
              "      <td>-1.506668</td>\n",
              "      <td>3</td>\n",
              "      <td>3</td>\n",
              "      <td>6</td>\n",
              "    </tr>\n",
              "    <tr>\n",
              "      <th>50052</th>\n",
              "      <td>-0.461102</td>\n",
              "      <td>-1.221088</td>\n",
              "      <td>-0.206254</td>\n",
              "      <td>-0.261429</td>\n",
              "      <td>-0.276765</td>\n",
              "      <td>-0.393939</td>\n",
              "      <td>2</td>\n",
              "      <td>4</td>\n",
              "      <td>5</td>\n",
              "    </tr>\n",
              "    <tr>\n",
              "      <th>41645</th>\n",
              "      <td>-0.840500</td>\n",
              "      <td>0.248451</td>\n",
              "      <td>-1.103591</td>\n",
              "      <td>-0.867750</td>\n",
              "      <td>-0.871264</td>\n",
              "      <td>-0.830579</td>\n",
              "      <td>3</td>\n",
              "      <td>5</td>\n",
              "      <td>5</td>\n",
              "    </tr>\n",
              "    <tr>\n",
              "      <th>42377</th>\n",
              "      <td>-0.777267</td>\n",
              "      <td>-0.661264</td>\n",
              "      <td>-0.206254</td>\n",
              "      <td>-0.725086</td>\n",
              "      <td>-0.740125</td>\n",
              "      <td>-0.788324</td>\n",
              "      <td>4</td>\n",
              "      <td>5</td>\n",
              "      <td>5</td>\n",
              "    </tr>\n",
              "    <tr>\n",
              "      <th>17244</th>\n",
              "      <td>1.583430</td>\n",
              "      <td>0.388407</td>\n",
              "      <td>-1.103591</td>\n",
              "      <td>1.521868</td>\n",
              "      <td>1.428047</td>\n",
              "      <td>1.507560</td>\n",
              "      <td>3</td>\n",
              "      <td>5</td>\n",
              "      <td>1</td>\n",
              "    </tr>\n",
              "  </tbody>\n",
              "</table>\n",
              "</div>"
            ],
            "text/plain": [
              "          carat     depth     table         x         y         z  cut  color  \\\n",
              "1388  -1.177742  0.248451 -0.654923 -1.572152 -1.518219 -1.506668    3      3   \n",
              "50052 -0.461102 -1.221088 -0.206254 -0.261429 -0.276765 -0.393939    2      4   \n",
              "41645 -0.840500  0.248451 -1.103591 -0.867750 -0.871264 -0.830579    3      5   \n",
              "42377 -0.777267 -0.661264 -0.206254 -0.725086 -0.740125 -0.788324    4      5   \n",
              "17244  1.583430  0.388407 -1.103591  1.521868  1.428047  1.507560    3      5   \n",
              "\n",
              "       clarity  \n",
              "1388         6  \n",
              "50052        5  \n",
              "41645        5  \n",
              "42377        5  \n",
              "17244        1  "
            ]
          },
          "execution_count": 65,
          "metadata": {},
          "output_type": "execute_result"
        }
      ],
      "source": [
        "X_test_num = X_test.select_dtypes('float64')\n",
        "X_test_cat = X_test.select_dtypes('object')\n",
        "\n",
        "X_test_num_transform = pd.DataFrame(scaler.transform(X_test_num), columns = X_test_num.columns, index = X_test_num.index)\n",
        "X_test_cat_transform = pd.DataFrame(encoder.transform(X_test_cat), columns = X_test_cat.columns, index = X_test_cat.index)\n",
        "\n",
        "X_test_transform = pd.concat([X_test_num_transform, X_test_cat_transform],axis = 1)\n",
        "X_test_transform.head()"
      ]
    },
    {
      "cell_type": "code",
      "execution_count": 66,
      "metadata": {},
      "outputs": [],
      "source": [
        "dump(scaler, open('models/StandardScaler.pkl', 'wb'))\n",
        "dump(encoder, open('models/OrdinalEncoder.pkl', 'wb'))"
      ]
    },
    {
      "attachments": {},
      "cell_type": "markdown",
      "metadata": {
        "id": "4HAxL33g0_Yi"
      },
      "source": [
        "## Linear Regression"
      ]
    },
    {
      "cell_type": "code",
      "execution_count": 67,
      "metadata": {
        "colab": {
          "base_uri": "https://localhost:8080/",
          "height": 74
        },
        "id": "E7fezZzkxmd8",
        "outputId": "2f157320-1553-4265-9b7a-b3079b34fafb"
      },
      "outputs": [
        {
          "name": "stdout",
          "output_type": "stream",
          "text": [
            "Mean Squared Error : 1463942.8899984383\n",
            "Mean Absolute Error : 802.0798566421087\n",
            "Root Mean Squared Error : 1209.9350767700053\n"
          ]
        }
      ],
      "source": [
        "with mlflow.start_run():\n",
        "    mlflow.set_tag('Dev','Vishal')\n",
        "    mlflow.set_tag('Algo','LinearReg')\n",
        "    mlflow.log_param('data-path', 'data/diamonds.csv')\n",
        "\n",
        "    linear_regressor = LinearRegression()\n",
        "    linear_regressor.fit(X_train_transform,y_train)\n",
        "\n",
        "    y_test_pred = linear_regressor.predict(X_test_transform)\n",
        "\n",
        "    mse = metrics.mean_squared_error(y_test,y_test_pred)\n",
        "    mae = metrics.mean_absolute_error(y_test,y_test_pred)\n",
        "    rmse = np.sqrt(metrics.mean_squared_error(y_test,y_test_pred))\n",
        "\n",
        "    mlflow.log_metric('MSE', mse)\n",
        "    mlflow.log_metric('MAE', mae)\n",
        "    mlflow.log_metric('RMSE', rmse)\n",
        "\n",
        "    mlflow.sklearn.log_model(linear_regressor, artifact_path='models')\n",
        "    mlflow.log_artifact('models/StandardScaler.pkl')\n",
        "    mlflow.log_artifact('models/OrdinalEncoder.pkl')\n",
        "\n",
        "    print('Mean Squared Error :', mse)\n",
        "    print('Mean Absolute Error :', mae)\n",
        "    print('Root Mean Squared Error :', rmse)"
      ]
    },
    {
      "attachments": {},
      "cell_type": "markdown",
      "metadata": {
        "id": "ZyzkMJbj1srt"
      },
      "source": [
        "## KNN Regression"
      ]
    },
    {
      "cell_type": "code",
      "execution_count": 68,
      "metadata": {
        "colab": {
          "base_uri": "https://localhost:8080/",
          "height": 74
        },
        "id": "7Sch567r1l6a",
        "outputId": "fdea0f30-f28d-470e-f79b-4b5cbd7e8cef"
      },
      "outputs": [
        {
          "name": "stdout",
          "output_type": "stream",
          "text": [
            "Mean Squared Error : 522184.8879110122\n",
            "Mean Absolute Error : 385.149766407119\n",
            "Root Mean Squared Error : 722.6236142771784\n"
          ]
        }
      ],
      "source": [
        "with mlflow.start_run():\n",
        "    mlflow.set_tag('Dev', 'Vishal')\n",
        "    mlflow.set_tag('Algo', 'KNN_Reg')\n",
        "    mlflow.log_param('data-path','data/diamonds.csv')\n",
        "\n",
        "    knn_regressor = KNeighborsRegressor()\n",
        "    knn_regressor.fit(X_train_transform, y_train)\n",
        "\n",
        "    y_test_pred = knn_regressor.predict(X_test_transform)\n",
        "\n",
        "    mse = metrics.mean_squared_error(y_test, y_test_pred)\n",
        "    mae = metrics.mean_absolute_error(y_test, y_test_pred)\n",
        "    rmse = np.sqrt(metrics.mean_squared_error(y_test, y_test_pred))\n",
        "\n",
        "    mlflow.log_metric('MSE', mse)\n",
        "    mlflow.log_metric('MAE', mae)\n",
        "    mlflow.log_metric('RMSE', rmse)\n",
        "\n",
        "    mlflow.sklearn.log_model(knn_regressor, artifact_path='models')\n",
        "    mlflow.log_artifact('models/StandardScaler.pkl')\n",
        "    mlflow.log_artifact('models/OrdinalEncoder.pkl')\n",
        "\n",
        "    print('Mean Squared Error :', mse)\n",
        "    print('Mean Absolute Error :', mae)\n",
        "    print('Root Mean Squared Error :', rmse)\n"
      ]
    },
    {
      "attachments": {},
      "cell_type": "markdown",
      "metadata": {
        "id": "jGzEPDQM28Xr"
      },
      "source": [
        "## Decision Tree Regression"
      ]
    },
    {
      "cell_type": "code",
      "execution_count": 69,
      "metadata": {
        "colab": {
          "base_uri": "https://localhost:8080/",
          "height": 74
        },
        "id": "dVcMdigW2xAY",
        "outputId": "739bc0a2-1e53-4745-dbe5-92aafc87994b"
      },
      "outputs": [
        {
          "name": "stdout",
          "output_type": "stream",
          "text": [
            "Mean Squared Error : 533714.0007230255\n",
            "Mean Absolute Error : 362.37222840192806\n",
            "Root Mean Squared Error : 730.5573219967243\n"
          ]
        }
      ],
      "source": [
        "with mlflow.start_run():\n",
        "    mlflow.set_tag('Dev','Vishal')\n",
        "    mlflow.set_tag('Algo','DecisionTreeReg')\n",
        "    mlflow.log_param('data-path', 'data/diamonds.csv')\n",
        "\n",
        "    DT_regressor = DecisionTreeRegressor()\n",
        "    DT_regressor.fit(X_train_transform, y_train)\n",
        "\n",
        "    y_test_pred = DT_regressor.predict(X_test_transform)\n",
        "\n",
        "    mse = metrics.mean_squared_error(y_test, y_test_pred)\n",
        "    mae = metrics.mean_absolute_error(y_test, y_test_pred)\n",
        "    rmse = np.sqrt(metrics.mean_squared_error(y_test, y_test_pred))\n",
        "\n",
        "    mlflow.log_metric('MSE', mse)\n",
        "    mlflow.log_metric('MAE', mae)\n",
        "    mlflow.log_metric('RMSE', rmse)\n",
        "\n",
        "    mlflow.sklearn.log_model(DT_regressor,artifact_path='models')\n",
        "    mlflow.log_artifact('models/StandardScaler.pkl')\n",
        "    mlflow.log_artifact('models/OrdinalEncoder.pkl')\n",
        "    \n",
        "    print('Mean Squared Error :', mse)\n",
        "    print('Mean Absolute Error :', mae)\n",
        "    print('Root Mean Squared Error :', rmse)\n"
      ]
    },
    {
      "attachments": {},
      "cell_type": "markdown",
      "metadata": {
        "id": "ILEGE4r435OC"
      },
      "source": [
        "## Random Forest"
      ]
    },
    {
      "cell_type": "code",
      "execution_count": 70,
      "metadata": {
        "id": "xo08uw0t309f"
      },
      "outputs": [
        {
          "name": "stdout",
          "output_type": "stream",
          "text": [
            "Mean Squared Error : 295690.9220424437\n",
            "Mean Absolute Error : 269.8774173994032\n",
            "Root Mean Squared Error : 543.7746978689278\n"
          ]
        }
      ],
      "source": [
        "with mlflow.start_run():\n",
        "    mlflow.set_tag('Dev','Vishal')\n",
        "    mlflow.set_tag('Algo', 'RandomForestReg')\n",
        "    mlflow.log_param('data-path', 'data/diamonds.csv')\n",
        "\n",
        "    RF_regressor = RandomForestRegressor()\n",
        "    RF_regressor.fit(X_train_transform, y_train)\n",
        "    y_test_pred = RF_regressor.predict(X_test_transform)\n",
        "\n",
        "    mse = metrics.mean_squared_error(y_test, y_test_pred)\n",
        "    mae = metrics.mean_absolute_error(y_test, y_test_pred)\n",
        "    rmse = np.sqrt(metrics.mean_squared_error(y_test, y_test_pred))\n",
        "\n",
        "    mlflow.log_metric('MSE', mse)\n",
        "    mlflow.log_metric('MAE', mae)\n",
        "    mlflow.log_metric('RMSE', rmse)\n",
        "\n",
        "    mlflow.sklearn.log_model(DT_regressor, artifact_path='models')\n",
        "    mlflow.log_artifact('models/StandardScaler.pkl')\n",
        "    mlflow.log_artifact('models/OrdinalEncoder.pkl')\n",
        "    \n",
        "    print('Mean Squared Error :', mse)\n",
        "    print('Mean Absolute Error :', mae)\n",
        "    print('Root Mean Squared Error :', rmse)\n"
      ]
    },
    {
      "attachments": {},
      "cell_type": "markdown",
      "metadata": {},
      "source": [
        "## HyperParameter Tuning of KNN"
      ]
    },
    {
      "cell_type": "code",
      "execution_count": 71,
      "metadata": {},
      "outputs": [],
      "source": [
        "mlflow.sklearn.autolog(max_tuning_runs=None)\n",
        "\n",
        "with mlflow.start_run():\n",
        "    tuned_parameters = [{'n_neighbors':[1,2,3,4,5,6,7], 'p':[1,2]}]\n",
        "\n",
        "    GScv_KNN = GridSearchCV(estimator = KNeighborsRegressor(),\n",
        "                            param_grid = tuned_parameters,\n",
        "                            cv = 5,\n",
        "                            scoring = 'neg_mean_absolute_error',\n",
        "                            return_train_score = True,\n",
        "                            verbose = 1\n",
        "                            )\n",
        "\n",
        "    GScv_KNN.fit(X_train_transform, y_train)\n",
        "\n",
        "    mlflow.sklearn.autolog(disable=True)"
      ]
    },
    {
      "cell_type": "code",
      "execution_count": 72,
      "metadata": {
        "id": "A11uIKhs44iP"
      },
      "outputs": [],
      "source": [
        "dump(linear_regressor, open('models/LinearRegressor.pkl', 'wb'))\n",
        "dump(knn_regressor, open('models/KNNRegressor.pkl','wb'))\n",
        "dump(DT_regressor, open('models/DecisionTreeRegressor.pkl', 'wb'))\n",
        "dump(RF_regressor, open('models/RandomForestRegressor.pkl', 'wb'))"
      ]
    },
    {
      "cell_type": "code",
      "execution_count": 73,
      "metadata": {
        "id": "bOdp2prF_5kV"
      },
      "outputs": [],
      "source": [
        "# print('Enter the details of the Diamond')\n",
        "# x = float(input('Enter the length of the Diamond '))\n",
        "# y = float(input('Enter the width of the Diamond '))\n",
        "# z = float(input('Enter the height of the Diamond '))\n",
        "# table = float(input('Enter the table of the Diamond '))\n",
        "# depth = float(input('Enter the depth of the Diamond '))\n",
        "# carat = float(input('Enter the carat of the Diamond '))\n",
        "# cut = input('Enter the cut of the Diamond ')\n",
        "# color = input('Enter the color of the Diamond ')\n",
        "# clarity = input('Enter the clarity of the Diamond ')"
      ]
    },
    {
      "cell_type": "code",
      "execution_count": 74,
      "metadata": {
        "id": "s0m3dzTaucaF"
      },
      "outputs": [],
      "source": [
        "# scaler = load(open('models/StandardScaler.pkl', 'rb'))\n",
        "# encoder = load(open('models/OrdinalEncoder.pkl', 'rb'))\n",
        "# lr_regressor = load(open('models/LinearRegressor.pkl', 'rb'))\n",
        "# knn_regressor = load(open('models/KNNRegressor.pkl', 'rb'))\n",
        "# dt_regressor = load(open('models/DecisionTreeRegressor.pkl', 'rb'))\n",
        "# rf_regressor = load(open('models/RandomForestRegressor.pkl', 'rb'))"
      ]
    },
    {
      "cell_type": "code",
      "execution_count": 75,
      "metadata": {
        "id": "U7wG4nnGy3HV"
      },
      "outputs": [],
      "source": [
        "# query_point_num = np.array([carat, depth, table, x, y , z]).reshape(1,-1)\n",
        "# query_point_cat = np.array([cut,color,clarity]).reshape(1,-1)\n",
        "# query_point_num_transform = scaler.transform(query_point_num)\n",
        "# query_point_cat_transform = encoder.transform(query_point_cat)\n",
        "# query_point_transform = np.concatenate((query_point_num_transform,query_point_cat_transform), axis = 1)"
      ]
    },
    {
      "cell_type": "code",
      "execution_count": 76,
      "metadata": {
        "id": "qUuCXp_weiAc"
      },
      "outputs": [],
      "source": [
        "# print(lr_regressor.predict(query_point_transform))\n",
        "# print(knn_regressor.predict(query_point_transform))\n",
        "# print(dt_regressor.predict(query_point_transform))\n",
        "# print(rf_regressor.predict(query_point_transform))"
      ]
    }
  ],
  "metadata": {
    "colab": {
      "provenance": []
    },
    "kernelspec": {
      "display_name": "Python 3",
      "language": "python",
      "name": "python3"
    },
    "language_info": {
      "codemirror_mode": {
        "name": "ipython",
        "version": 3
      },
      "file_extension": ".py",
      "mimetype": "text/x-python",
      "name": "python",
      "nbconvert_exporter": "python",
      "pygments_lexer": "ipython3",
      "version": "3.8.16"
    }
  },
  "nbformat": 4,
  "nbformat_minor": 0
}
